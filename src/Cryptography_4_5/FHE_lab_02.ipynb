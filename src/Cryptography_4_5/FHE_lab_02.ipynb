{
 "cells": [
  {
   "cell_type": "markdown",
   "id": "6df910e1",
   "metadata": {},
   "source": [
    "# Szyfrowanie w pełni holomorficzne - Laboratorium 02"
   ]
  },
  {
   "cell_type": "markdown",
   "id": "a4131bd8",
   "metadata": {},
   "source": [
    "## Zadanie 1.\n",
    "\n",
    "Skopiuj kod pierścienia $\\mathbb{Z}_{17}[X]/(X^4+1)$ wraz z arytmetyką oraz kod uproszczonej wersji algorytmu BGV z poprzednich zajęć - przydadzą się."
   ]
  },
  {
   "cell_type": "code",
   "execution_count": 552,
   "id": "ed926ab9",
   "metadata": {},
   "outputs": [],
   "source": [
    "import numpy as np\n",
    "import random\n",
    "from math import log2, floor\n",
    "import matplotlib.pyplot as plt"
   ]
  },
  {
   "cell_type": "code",
   "execution_count": 28,
   "id": "3a117378",
   "metadata": {},
   "outputs": [],
   "source": [
    "class Ring_4_17:\n",
    "    def __init__(self):\n",
    "        self.q = 17\n",
    "        self.w = np.poly1d([1, 0, 0, 0, 1])\n",
    "        \n",
    "    def ring_rep(self, poly):\n",
    "        return np.poly1d(np.floor(np.polydiv(poly, self.w)[1]) % self.q)\n",
    "    \n",
    "    def add_poly(self, poly_1, poly_2):\n",
    "        return np.poly1d(np.floor(np.polyadd(poly_1, poly_2)) % self.q)\n",
    "\n",
    "    def sub_poly(self, poly_1, poly_2):\n",
    "        return np.poly1d(np.floor(np.polysub(poly_1, poly_2)) % self.q)\n",
    "    \n",
    "    def mul_poly(self, poly_1, poly_2):\n",
    "        return np.poly1d(np.floor(np.polydiv(np.polymul(poly_1, poly_2), self.w)[1]) % self.q)\n",
    "\n",
    "    def mul_poly_int_right(self, poly, num):\n",
    "        return np.poly1d(np.floor(np.polydiv(np.polymul(poly, np.poly1d([num])), self.w)[1]) % self.q)\n",
    "\n",
    "    def mul_poly_int_left(self, num, poly):\n",
    "        return np.poly1d(np.floor(np.polydiv(np.polymul(np.poly1d([num]), poly), self.w)[1]) % self.q)"
   ]
  },
  {
   "cell_type": "code",
   "execution_count": 29,
   "id": "21e5793f",
   "metadata": {},
   "outputs": [],
   "source": [
    "class BGV:\n",
    "    def __init__(self, n, q, t):\n",
    "        self.n = n\n",
    "        self.q = q\n",
    "        self.t = t\n",
    "        self.ring = Ring_4_17()\n",
    "    \n",
    "    def secret_key_gen(self):\n",
    "        return np.poly1d(np.random.binomial(1, 0.2, self.n - 2))\n",
    "    \n",
    "    def pub_key_gen(self, sk, max_coeff = 100):                     \n",
    "        a = self.ring.ring_rep(np.poly1d(np.random.randint(-max_coeff, max_coeff, self.n)))\n",
    "        e = self.ring.ring_rep(np.poly1d(np.random.randint(0, 3, self.n - 2)))\n",
    "        pk0 = self.ring.add_poly(self.ring.mul_poly(a, sk), self.ring.mul_poly_int_left(self.t, e))\n",
    "        pk1 = self.ring.mul_poly_int_left(-1, a)\n",
    "        return pk0, pk1\n",
    "    \n",
    "    def encrypt(self, m, pk):\n",
    "        e0 = self.ring.ring_rep(np.poly1d(np.random.randint(0, 1, self.n - 1)))\n",
    "        e1 = self.ring.ring_rep(np.poly1d(np.random.randint(0, 1, self.n - 1)))\n",
    "        u = np.poly1d(np.random.binomial(1, 0.5, self.n - 2))\n",
    "        c0 = self.ring.add_poly(self.ring.add_poly(self.ring.mul_poly(pk[0], u), self.ring.mul_poly_int_left(self.t, e0)), m)\n",
    "        c1 = self.ring.add_poly(self.ring.mul_poly(pk[1], u), self.ring.mul_poly_int_left(self.t, e1))\n",
    "        return c0, c1\n",
    "    \n",
    "    def decrypt(self, c, sk):\n",
    "        m = self.ring.add_poly(c[0], self.ring.mul_poly(c[1], sk))\n",
    "        m = np.poly1d(np.floor(np.floor(m.coef) % self.q) % self.t)\n",
    "        return m"
   ]
  },
  {
   "cell_type": "markdown",
   "id": "a15aa013",
   "metadata": {},
   "source": [
    "## Dodawanie `Add`"
   ]
  },
  {
   "cell_type": "markdown",
   "id": "5bbf98c3",
   "metadata": {},
   "source": [
    "Załóżmy, że mamy dwie wiadomości zaszyfrowane tym samym kluczem prywatnym, tzn. dwie pary $(c_0,c_1)$ oraz $(c'_0,c'_1)$. Naturalnym sposobem zdefiniowania sumy jest $$c_0^{\\ast}=c_0+c'_0$$ $$c_1^{\\ast}=c_1+c'_1$$czyli szyfrogram sumy to $$c^{\\ast}=(c_0^{\\ast},c_1^{\\ast}).$$\n",
    "\n",
    "To podejście me jeden problem: z każdą operacją sumowania wzrasta zaszumienie końcowego szyfrogramu, co może skutkować błędnym deszyfrowaniem, jednak nie aż tak bardzo jak to się dzieje w przypadku mnożenia."
   ]
  },
  {
   "cell_type": "markdown",
   "id": "36409715",
   "metadata": {},
   "source": [
    "## Mnożenie `Mul`"
   ]
  },
  {
   "cell_type": "markdown",
   "id": "e5463481",
   "metadata": {},
   "source": [
    "Jak przy dodawaniu mamy dwie wiadomości zaszyfrowane tym samym kluczem prywatnym, tzn. dwie pary $(c_0,c_1)$ oraz $(c'_0,c'_1)$. W przypadku naturalnej definicji mnożenia sprawy się komplikują: jeżeli popatrzymy na funkcję `Decrypt`, to wiadomości $m$ i $m'$ kryjące się za naszymi szyfrogramami są postaci $$m=c_0+c_1s$$ $$m'=c'_0+c'_1s.$$Jeżeli teraz pomnożymy te dwie wiadomości, to otrzymamy $$mm'=(c_0+c_1s)(c'_0+c'_1s)=c_0c'_0+(c_0c'_1+c'_0c_1)s+c_1c'_1s^2$$\n",
    "Otrzymujemy zatem **trzy** współrzędne końcowego szyfrogramu:\n",
    "\\begin{eqnarray*}\n",
    "c^{\\ast}_0=c_0c'_0\\\\\n",
    "c^{\\ast}_1=c_0c'_1+c'_0c_1\\\\\n",
    "c^{\\ast}_2=c_1c'_1\n",
    "\\end{eqnarray*}\n",
    "Jako wynik mnożenia zwracamy szyfrogram $$c^{\\ast}=(c_0^{\\ast},c_1^{\\ast},c_2^{\\ast}).$$\n",
    "W tym przypadku oprócz problemu z narastającym zaszumieniem mamy jeszcze problem z dodatkową współrzędną, której nie bierze pod uwagę nasza implementacja funkcji deszyfrującej."
   ]
  },
  {
   "cell_type": "markdown",
   "id": "6466c636",
   "metadata": {},
   "source": [
    "## Prosta relinearyzacja `KeySwitch`\n",
    "\n",
    "Niech $c^{\\ast}=(c_0^{\\ast},c_1^{\\ast},c_2^{\\ast})$ będzie wynikiem mnożenia dwóch wiadomości $m_1$ i $m_2$ zaszyfrowanych przy pomocy klucza publicznego $(pk_0, pk_1)$ i klucza prywatnego $s$. Żeby pozbyć się współrzędnej $c_2^{\\ast}$ (i przekształcić postać iloczynu $mm'$ z kwadratowej na liniową) stosujemy *zmianę klucza*.\n",
    "\n",
    "**Krok 1 - rozkład wielomianu.** Najpierw zapisujemy wszystkie współczynniki wielomianu $c_2^{\\ast}=w_0+w_1x+w_2x^2+w_3x^3$ w reprezentacji w systemie dwójkowym, tzn. $$w_i=\\sum_{j=0}^{\\lfloor \\log_2 q\\rfloor+1}2^jw^{(j)}_i,\\ \\ i=0,1,2,3$$\n",
    "\n",
    "Konstruujemy nowe wielomiany dla $j=0,...,\\lfloor \\log_2 q\\rfloor+1$ $$c_2^{\\ast (j)}=w^{(j)}_0+w^{(j)}_1x+w^{(j)}_2x^2+w^{(j)}_3x^3$$i za ich pomocą rozkładamy wielomian $c_2^{\\ast}$ $$c_2^{\\ast}=\\sum_{j=0}^{\\lfloor \\log_2 q\\rfloor+1}2^j c_2^{\\ast (j)}\\mod q$$\n",
    "\n",
    "**Krok 2 - generowanie wskazówek.** Dla $j=0,...,\\lfloor \\log_2 q\\rfloor+1$ z klucza prywatengo $s$ generujemy tzw. *wskazówki*: $$(ek_0^{(j)},ek_1^{(j)})=(a_js+te_j+2^js^2,-a_j),$$gdzie $a_j\\in R_q$ są generowane losowo z rozkładu jednostajnego a błedy $e_i\\in R_q$ - losowo z rozkładu typu Gaussowskiego (jak przy generowaniu kluczy).\n",
    "\n",
    "**Krok 3 - nowy szyfrogram.** Generujemy nowy szyfrogram $(\\widehat{c}_0,\\widehat{c}_1)$: $$\\widehat{c}_0=c_0^{\\ast}+\\sum_{j=0}^{\\lfloor \\log_2 q\\rfloor+1}ek_0^{(j)}c_2^{\\ast (j)}$$\n",
    "$$\\widehat{c}_1=c_1^{\\ast}+\\sum_{j=0}^{\\lfloor \\log_2 q\\rfloor+1}ek_1^{(j)}c_2^{\\ast (j)}$$\n",
    "\n",
    "Po zdeszyfrowaniu $(\\widehat{c}_0,\\widehat{c}_1)$ z kluczem $s$ powinniśmy otrzymać wiadomość będącą wynikiem mnożenia dwóch wiadomości $m_1$ i $m_2$."
   ]
  },
  {
   "cell_type": "markdown",
   "id": "44157d1e",
   "metadata": {},
   "source": [
    "## Zadanie 2.\n",
    "\n",
    "Zaimplementuj funkcje `Add`, `KeySwitch` oraz `Mul` realizujące powyższe algorytmy.\n",
    "- sprawdź działanie dodawania i mnożenia dla jednej operacji ($m_1+m_2, m_1*m_2$). Pamiętaj o wykorzystaniu funkcji `KeySwitch` przy mnożeniu. Dobierz parametry kryptosystemu tak, żeby po deszyfrowaniu otrzymać poprawne wyniki.\n",
    "- ile operacji dodawania możemy wykonać zanim narastające błędy spowodują błędne deszyfrowanie ($m_1+m_2+m_3+...$)?\n",
    "- a ile operacji mnożenia ($m_1*m_2*m_3*...$)?\n",
    "- sprawdź jak wygląda skuteczność deszyfrowania w przypadku mieszania operacji, np. $m_1*m_2+m_3$. Dla jakiej głębokości $N$ operacji mieszanych na wiadomościach deszyfrowanie jest poprawne?\n",
    "\n",
    "Przez głębokość $N$ operacji mieszanych rozumiemy kombinację postaci: iloczyn $N$ wiadomości plus iloczyn $N-1$ wiadomości plus iloczyn $N-2$ wiadomości plus ... plus iloczyn dwóch wiadomości plus jedna wiadomość.\n",
    "\n",
    "Otrzymane rezultaty (maksymalna głębokość operacji dodawania, operacji mnożenia i operacji mieszanych) opisz pełnym zdaniem w osobnej komórce pod testami."
   ]
  },
  {
   "cell_type": "code",
   "execution_count": 30,
   "id": "75662f3d",
   "metadata": {},
   "outputs": [],
   "source": [
    "def add(c0, c1):\n",
    "    c0_star = bgv.ring.add_poly(c0[0], c1[0])\n",
    "    c1_star = bgv.ring.add_poly(c0[1], c1[1])\n",
    "    return c0_star, c1_star\n",
    "    \n",
    "def key_switch(c_star, s):\n",
    "    log2q_plus_1 = floor(log2(bgv.q)) + 1\n",
    "    c2_star_bin_coeffs = np.array([[int(b) for b in bin(int(w))[2:].zfill(log2q_plus_1)] for w in c_star[2].coeffs])\n",
    "    c2_star_j = [np.poly1d(c2_star_bin_coeffs[:, i]) for i in range(c2_star_bin_coeffs.shape[0] + 1)]\n",
    "    c2_star_j_2 = [bgv.ring.mul_poly_int_left(2 ** j, c2_star_j[j]) for j in range(len(c2_star_j))]\n",
    "    c2_star = c2_star_j_2[0]\n",
    "    for j in range(1, len(c2_star_j_2)):\n",
    "        c2_star = bgv.ring.add_poly(c2_star, c2_star_j_2[j])\n",
    "        \n",
    "    c2_star = np.poly1d(np.floor(c2_star) % bgv.q)\n",
    "    \n",
    "    X_a_j = [np.poly1d(np.random.uniform(0, bgv.q, 4)) for _ in range(log2q_plus_1)]\n",
    "    a_j = [bgv.ring.ring_rep(X_a_j[j]) for j in range(len(X_a_j))]\n",
    "    X_e_j = [np.poly1d(np.random.randint(0, 1, bgv.t - 2)) for _ in range(log2q_plus_1)]\n",
    "    e_j = [bgv.ring.ring_rep(X_e_j[j]) for j in range(len(X_a_j))]\n",
    "    \n",
    "    ek0_j = [bgv.ring.add_poly(bgv.ring.add_poly(bgv.ring.mul_poly(a_j[j], s), bgv.ring.mul_poly_int_left(bgv.t, e_j[j])), bgv.ring.mul_poly(np.poly([2 ** j for j in range(log2q_plus_1)]), bgv.ring.mul_poly(s, s))) for j in range(log2q_plus_1)]\n",
    "    ek1_j = [bgv.ring.mul_poly_int_left(-1, a_j[j]) for j in range(log2q_plus_1)]\n",
    "    \n",
    "    c0_dash = bgv.ring.add_poly(c_star[0], bgv.ring.mul_poly(ek0_j[0], c2_star))\n",
    "    c1_dash = bgv.ring.add_poly(c_star[1], bgv.ring.mul_poly(ek1_j[0], c2_star))\n",
    "    \n",
    "    for j in range(1, log2q_plus_1):\n",
    "        c0_dash = bgv.ring.add_poly(c0_dash, bgv.ring.mul_poly(ek0_j[j], bgv.ring.mul_poly_int_left(2 ** j, c2_star)))\n",
    "        c1_dash = bgv.ring.add_poly(c1_dash, bgv.ring.mul_poly(ek1_j[j], bgv.ring.mul_poly_int_left(2 ** j, c2_star)))\n",
    "    \n",
    "    return c0_dash, c1_dash\n",
    "    \n",
    "def mul(c0, c1, s):\n",
    "    c0_star = bgv.ring.mul_poly(c0[0], c1[0])\n",
    "    c1_star = bgv.ring.add_poly(bgv.ring.mul_poly(c0[0], c1[1]), bgv.ring.mul_poly(c1[0], c0[1]))\n",
    "    c2_star = bgv.ring.mul_poly(c0[1], c1[1])\n",
    "    \n",
    "    c_star = (c0_star, c1_star, c2_star)\n",
    "    return key_switch(c_star, s)\n"
   ]
  },
  {
   "cell_type": "markdown",
   "id": "102a17ae",
   "metadata": {},
   "source": [
    "**Sprawdzenie działania dodawania dla m1 + m2**"
   ]
  },
  {
   "cell_type": "code",
   "execution_count": 87,
   "id": "18d67edc",
   "metadata": {},
   "outputs": [
    {
     "name": "stdout",
     "output_type": "stream",
     "text": [
      "Dodawanie w funkcji Add:\n",
      "(poly1d([1., 0., 0.]), poly1d([0.]))\n",
      "(poly1d([11.,  5.,  2., 12.]), poly1d([ 1.,  5., 12., 16.]))\n",
      "(poly1d([11.,  6.,  2., 12.]), poly1d([ 1.,  5., 12., 16.]))\n",
      "Deszyfrowany wynik funkcji Add:\n",
      "   2\n",
      "2 x + 1 x + 2\n",
      "Wynik dodawania w pierścieniu:\n",
      "   2\n",
      "2 x + 1 x + 2\n"
     ]
    }
   ],
   "source": [
    "m1 = np.poly1d(np.random.randint(0, 3, 3))\n",
    "m2 = np.poly1d(np.random.randint(0, 3, 3))\n",
    "\n",
    "bgv = BGV(4, 17, 4)\n",
    "sk = bgv.secret_key_gen()\n",
    "pk = bgv.pub_key_gen(sk)\n",
    "\n",
    "m1 = bgv.ring.ring_rep(m1)\n",
    "m2 = bgv.ring.ring_rep(m2)\n",
    "\n",
    "c1 = bgv.encrypt(m1, pk)\n",
    "c2 = bgv.encrypt(m2, pk)\n",
    "c1_plus_c2 = add(c1, c2)\n",
    "\n",
    "print('Dodawanie w funkcji Add:')\n",
    "print(c1)\n",
    "print(c2)\n",
    "print(c1_plus_c2)\n",
    "\n",
    "print('Deszyfrowany wynik funkcji Add:')\n",
    "m1_plus_m2 = bgv.decrypt(c1_plus_c2, sk)\n",
    "print(m1_plus_m2)\n",
    "\n",
    "print('Wynik dodawania w pierścieniu:')\n",
    "print(bgv.ring.add_poly(m1, m2))"
   ]
  },
  {
   "cell_type": "markdown",
   "id": "95c523e7",
   "metadata": {},
   "source": [
    "**Sprawdzenie działania dodawania dla m1 * m2**"
   ]
  },
  {
   "cell_type": "code",
   "execution_count": 107,
   "id": "22382d9d",
   "metadata": {},
   "outputs": [
    {
     "name": "stdout",
     "output_type": "stream",
     "text": [
      "Mnożenie w funkcji Mul:\n",
      "(poly1d([1., 0., 1.]), poly1d([11.,  2., 15., 15.]))\n",
      "(poly1d([1.]), poly1d([0.]))\n",
      "(poly1d([1., 0., 1.]), poly1d([11.,  2., 15., 15.]))\n",
      "Deszyfrowany wynik funkcji Mull:\n",
      "   2\n",
      "1 x + 1\n",
      "Wynik mnożenia w pierścieniu:\n",
      "   2\n",
      "1 x + 1\n"
     ]
    }
   ],
   "source": [
    "m1 = np.poly1d(np.random.randint(0, 3, 3))\n",
    "m2 = np.poly1d(np.random.randint(0, 3, 3))\n",
    "\n",
    "bgv = BGV(4, 17, 4)\n",
    "sk = bgv.secret_key_gen()\n",
    "pk = bgv.pub_key_gen(sk)\n",
    "\n",
    "m1 = bgv.ring.ring_rep(m1)\n",
    "m2 = bgv.ring.ring_rep(m2)\n",
    "\n",
    "c1 = bgv.encrypt(m1, pk)\n",
    "c2 = bgv.encrypt(m2, pk)\n",
    "\n",
    "c1_mul_c2 = mul(c1, c2, sk)\n",
    "print('Mnożenie w funkcji Mul:')\n",
    "print(c1)\n",
    "print(c2)\n",
    "print(c1_mul_c2)\n",
    "\n",
    "print('Deszyfrowany wynik funkcji Mull:')\n",
    "m1_mul_m2 = bgv.decrypt(c1_mul_c2, sk)\n",
    "print(m1_mul_m2)\n",
    "\n",
    "print('Wynik mnożenia w pierścieniu:')\n",
    "print(bgv.ring.mul_poly(m1, m2))"
   ]
  },
  {
   "cell_type": "markdown",
   "id": "93093e2e",
   "metadata": {},
   "source": [
    "**Sprawdzenie działania dodawania dla m1 * m2 + m3**"
   ]
  },
  {
   "cell_type": "code",
   "execution_count": 110,
   "id": "76ef09d8",
   "metadata": {},
   "outputs": [
    {
     "name": "stdout",
     "output_type": "stream",
     "text": [
      "(m1 * m2 + m3) w funkcjach Add i Mul:\n",
      "(poly1d([1., 2., 1., 0.]), poly1d([0.]))\n",
      "(poly1d([15.,  4., 10.,  0.]), poly1d([ 2., 14.,  0.,  5.]))\n",
      "(poly1d([16.,  6., 11.,  0.]), poly1d([ 2., 14.,  0.,  5.]))\n",
      "Deszyfrowany wynik (m1 * m2 + m3):\n",
      "   3     2\n",
      "1 x + 3 x + 3 x + 1\n",
      "Wynik (m1 * m2 + m3) w pierścieniu:\n",
      "   3     2\n",
      "1 x + 3 x + 3 x + 1\n"
     ]
    }
   ],
   "source": [
    "m1 = np.poly1d(np.random.randint(0, 3, 3))\n",
    "m2 = np.poly1d(np.random.randint(0, 3, 3))\n",
    "m3 = np.poly1d(np.random.randint(0, 3, 3))\n",
    "\n",
    "bgv = BGV(4, 17, 4)\n",
    "sk = bgv.secret_key_gen()\n",
    "pk = bgv.pub_key_gen(sk)\n",
    "\n",
    "m1 = bgv.ring.ring_rep(m1)\n",
    "m2 = bgv.ring.ring_rep(m2)\n",
    "m3 = bgv.ring.ring_rep(m3)\n",
    "\n",
    "c1 = bgv.encrypt(m1, pk)\n",
    "c2 = bgv.encrypt(m2, pk)\n",
    "c3 = bgv.encrypt(m3, pk)\n",
    "\n",
    "c1_mul_c2 = mul(c1, c2, sk)\n",
    "c1_mul_c2_plus_c3 = add(c1_mul_c2, c3)\n",
    "\n",
    "print('(m1 * m2 + m3) w funkcjach Add i Mul:')\n",
    "print(c1_mul_c2)\n",
    "print(c3)\n",
    "print(c1_mul_c2_plus_c3)\n",
    "\n",
    "print('Deszyfrowany wynik (m1 * m2 + m3):')\n",
    "m1_mul_m2_plus_m3 = bgv.decrypt(c1_mul_c2_plus_c3, sk)\n",
    "print(m1_mul_m2_plus_m3)\n",
    "\n",
    "print('Wynik (m1 * m2 + m3) w pierścieniu:')\n",
    "print(bgv.ring.add_poly(bgv.ring.mul_poly(m1, m2), m3))"
   ]
  },
  {
   "cell_type": "markdown",
   "id": "85c7aaac",
   "metadata": {},
   "source": [
    "**Ile operacji dodawania możemy wykonać zanim narastające błędy spowodują błędne deszyfrowanie ( 𝑚1+𝑚2+𝑚3+...\n",
    " )?**"
   ]
  },
  {
   "cell_type": "code",
   "execution_count": 501,
   "id": "414576ec",
   "metadata": {},
   "outputs": [],
   "source": [
    "MAX_ITERATIONS = 100\n",
    "NUM_OF_TESTS = 1000\n",
    "\n",
    "bgv = BGV(4, 17, 4)\n",
    "sk = bgv.secret_key_gen()\n",
    "pk = bgv.pub_key_gen(sk)"
   ]
  },
  {
   "cell_type": "code",
   "execution_count": 526,
   "id": "8edba4ad",
   "metadata": {},
   "outputs": [],
   "source": [
    "def test_add(bgv, sk, pk):\n",
    "    count = 0\n",
    "    m1 = np.poly1d(np.random.randint(0, 3, 5))\n",
    "    m1 = bgv.ring.ring_rep(m1)\n",
    "    sum_of_m = m1\n",
    "        \n",
    "    for _ in range(MAX_ITERATIONS):\n",
    "        next_m = np.poly1d(np.random.randint(0, 3, 5))\n",
    "        next_m = bgv.ring.ring_rep(next_m)\n",
    "        \n",
    "        sum_of_c = bgv.encrypt(sum_of_m, pk)\n",
    "        next_c = bgv.encrypt(next_m, pk)\n",
    "        \n",
    "        new_sum_of_c = add(sum_of_c, next_c)\n",
    "        new_sum_of_m = bgv.decrypt(new_sum_of_c, sk)\n",
    "        \n",
    "        if not np.array_equal(new_sum_of_m.coef, bgv.ring.add_poly(sum_of_m, next_m).coef):\n",
    "            break\n",
    "        \n",
    "        sum_of_m = new_sum_of_m\n",
    "        count += 1\n",
    "    \n",
    "    return count\n",
    "    \n",
    "results_test_add = []\n",
    "    \n",
    "for _ in range(NUM_OF_TESTS):\n",
    "    depth = test_add(bgv, sk, pk)\n",
    "    results_test_add.append(depth)"
   ]
  },
  {
   "cell_type": "code",
   "execution_count": 533,
   "id": "8c36e946",
   "metadata": {},
   "outputs": [
    {
     "name": "stdout",
     "output_type": "stream",
     "text": [
      "Program mógł wykonać N = 4 operacje dodawania zanim narastające błędy spowodowały błędne deszyfrowanie.\n"
     ]
    }
   ],
   "source": [
    "print(f\"Program mógł wykonać N = {max(results_test_add)} operacje dodawania zanim narastające błędy spowodowały błędne deszyfrowanie.\")"
   ]
  },
  {
   "cell_type": "markdown",
   "id": "52555bf7",
   "metadata": {},
   "source": [
    "**ile operacji mnożenia możemy wykonać zanim narastające błędy spowodują błędne deszyfrowanie ( 𝑚1∗𝑚2∗𝑚3∗...\n",
    " )?**"
   ]
  },
  {
   "cell_type": "code",
   "execution_count": 524,
   "id": "4ff7f2ef",
   "metadata": {},
   "outputs": [],
   "source": [
    "def test_mul(bgv, sk, pk):\n",
    "    count = 0\n",
    "    m1 = np.poly1d(np.random.randint(0, 3, 6))\n",
    "    m1 = bgv.ring.ring_rep(m1)\n",
    "    product_of_m = m1\n",
    "        \n",
    "    for _ in range(MAX_ITERATIONS):\n",
    "        next_m = np.poly1d(np.random.randint(0, 3, 6))\n",
    "        next_m = bgv.ring.ring_rep(next_m)\n",
    "        \n",
    "        product_of_c = bgv.encrypt(product_of_m, pk)\n",
    "        next_c = bgv.encrypt(next_m, pk)\n",
    "        \n",
    "        new_product_of_c = mul(product_of_c, next_c, sk)\n",
    "        new_product_of_m = bgv.decrypt(new_product_of_c, sk)\n",
    "        \n",
    "        if not np.array_equal(new_product_of_m.coef, bgv.ring.mul_poly(product_of_m, next_m).coef):\n",
    "            break\n",
    "        \n",
    "        product_of_m = new_product_of_m \n",
    "        count += 1\n",
    "    \n",
    "    return count\n",
    "    \n",
    "results_test_mul = []\n",
    "    \n",
    "for _ in range(NUM_OF_TESTS):\n",
    "    depth = test_mul(bgv, sk, pk)\n",
    "    results_test_mul.append(depth)"
   ]
  },
  {
   "cell_type": "code",
   "execution_count": 532,
   "id": "af95c177",
   "metadata": {},
   "outputs": [
    {
     "name": "stdout",
     "output_type": "stream",
     "text": [
      "Program mógł wykonać N = 2 operacje mnożenia zanim narastające błędy spowodowały błędne deszyfrowanie.\n"
     ]
    }
   ],
   "source": [
    "print(f\"Program mógł wykonać N = {max(results_test_mul)} operacje mnożenia zanim narastające błędy spowodowały błędne deszyfrowanie.\")"
   ]
  },
  {
   "cell_type": "markdown",
   "id": "3dd9fdf2",
   "metadata": {},
   "source": [
    "**Ile operacji mieszanych możemy wykonać zanim narastające błędy spowodują błędne deszyfrowanie?**"
   ]
  },
  {
   "cell_type": "code",
   "execution_count": 528,
   "id": "fa125778",
   "metadata": {},
   "outputs": [],
   "source": [
    "def test_mix(bgv, sk, pk):\n",
    "    count = 0\n",
    "    m1 = np.poly1d(np.random.randint(0, 3, 6))\n",
    "    m1 = bgv.ring.ring_rep(m1)\n",
    "    mix_m = m1\n",
    "        \n",
    "    for _ in range(MAX_ITERATIONS):\n",
    "        second_m = np.poly1d(np.random.randint(0, 3, 6))\n",
    "        third_m = np.poly1d(np.random.randint(0, 3, 6))\n",
    "        second_m = bgv.ring.ring_rep(second_m)\n",
    "        third_m = bgv.ring.ring_rep(third_m)\n",
    "        \n",
    "        mix_c = bgv.encrypt(mix_m, pk)\n",
    "        second_c = bgv.encrypt(second_m, pk)\n",
    "        third_c = bgv.encrypt(third_m, pk)\n",
    "        \n",
    "        new_mix_c = mul(mix_c, second_c, sk)\n",
    "        new_mix_c = add(new_mix_c, third_c)\n",
    "        new_mix_m = bgv.decrypt(new_mix_c, sk)\n",
    "        \n",
    "        if not np.array_equal(new_mix_m.coef, bgv.ring.add_poly(bgv.ring.mul_poly(mix_m, second_m), third_m).coef):\n",
    "            break\n",
    "        \n",
    "        mix_m = new_mix_m\n",
    "        count += 1\n",
    "    \n",
    "    return count\n",
    "    \n",
    "results_test_mix = []\n",
    "    \n",
    "for _ in range(NUM_OF_TESTS):\n",
    "    depth = test_mix(bgv, sk, pk)\n",
    "    results_test_mix.append(depth)"
   ]
  },
  {
   "cell_type": "code",
   "execution_count": 531,
   "id": "3ea1959c",
   "metadata": {},
   "outputs": [
    {
     "name": "stdout",
     "output_type": "stream",
     "text": [
      "Program mógł wykonać N = 1 operację mieszaną zanim narastające błędy spowodowały błędne deszyfrowanie.\n"
     ]
    }
   ],
   "source": [
    "print(f\"Program mógł wykonać N = {max(results_test_mix)} operację mieszaną zanim narastające błędy spowodowały błędne deszyfrowanie.\")"
   ]
  },
  {
   "cell_type": "markdown",
   "id": "860a899f",
   "metadata": {},
   "source": [
    "**Wizaualizacja wyników testów**"
   ]
  },
  {
   "cell_type": "code",
   "execution_count": 569,
   "id": "5647ce7a",
   "metadata": {},
   "outputs": [
    {
     "data": {
      "image/png": "[encoded data removed]",
      "text/plain": [
       "<Figure size 1400x700 with 1 Axes>"
      ]
     },
     "metadata": {},
     "output_type": "display_data"
    }
   ],
   "source": [
    "plt.figure(figsize=(14, 7))\n",
    "plt.plot([i for i in range(1000)], results_test_add, c = 'lightblue', label ='Operation Add')\n",
    "plt.plot([i for i in range(1000)], results_test_mul, c = 'orange', label = 'Operation Mul')\n",
    "plt.plot([i for i in range(1000)], results_test_mix, c = 'green', label = 'Operation Mix')\n",
    "plt.xlabel('Samples Number')\n",
    "plt.ylabel('Max N')\n",
    "plt.legend(loc='upper left')\n",
    "plt.title('Performance Comparison of Implemented Operations in BGV Algorithm')\n",
    "plt.show()"
   ]
  },
  {
   "cell_type": "markdown",
   "id": "482810db",
   "metadata": {},
   "source": [
    "### Opis rezultatów\n",
    "\n"
   ]
  },
  {
   "cell_type": "markdown",
   "id": "ca3eaf09",
   "metadata": {},
   "source": [
    "Dla przeprowadzonych testów uzyskano następujące rezultaty:\n",
    "\n",
    "1. Program mógł wykonać maksymalnie N = 4 operacji dodawania zanim narastające błędy spowodowały błędne deszyfrowanie. Obserując wykres można stwierdzić, że dla jednej operacji dodawania wynik jest przeważnie poprawny. W przypadku dwóch operacji dodawania częściej występują błędy. Patrząc od 3 operacji wzwyż można stwierdzić, że narastające błędy skutkują praktycznie brakiem poprawnych wyników.\n",
    "\n",
    "2. Program mógł wykonać maksymalnie N = 2 operacji mnożenia zanim narastające błędy spowodowały błędne deszyfrowanie. Obserwujac wykres można stwierdzić, że bardzo rzadko operacje mnożenia dawały poprawne rezultaty. Jeśli już wynik był pozytywny to przeważnie był on wynikiem jednej operacji mnożenia.\n",
    "\n",
    "3. Program mógł wykonać maksymalnie N = 1 operację mieszaną zanim narastające błędy spowodowały błędne deszyfrowanie. Nie jest to zaskakujący rezultat biorąc pod uwagę słabe wyniki operacji mnożenia, które wpływają na wyniki operacji mieszanej. Operacje mieszane bardzo rzadko dawały poprawne rezultaty. Jeśli już wynik był pozytywny to przeważnie był on wynikiem jednej operacji mieszanej."
   ]
  },
  {
   "cell_type": "code",
   "execution_count": null,
   "id": "cd675b28",
   "metadata": {},
   "outputs": [],
   "source": []
  }
 ],
 "metadata": {
  "kernelspec": {
   "display_name": "Python 3 (ipykernel)",
   "language": "python",
   "name": "python3"
  },
  "language_info": {
   "codemirror_mode": {
    "name": "ipython",
    "version": 3
   },
   "file_extension": ".py",
   "mimetype": "text/x-python",
   "name": "python",
   "nbconvert_exporter": "python",
   "pygments_lexer": "ipython3",
   "version": "3.9.19"
  }
 },
 "nbformat": 4,
 "nbformat_minor": 5
}

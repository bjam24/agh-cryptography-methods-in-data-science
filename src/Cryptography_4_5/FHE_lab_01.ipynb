{
 "cells": [
  {
   "cell_type": "markdown",
   "id": "6df910e1",
   "metadata": {},
   "source": [
    "# Szyfrowanie w pełni holomorficzne - Laboratorium 01"
   ]
  },
  {
   "cell_type": "markdown",
   "id": "0750ef60",
   "metadata": {},
   "source": [
    "## Pierścienie ilorazowe wielomianów\n",
    "\n",
    "Obiektem matematycznym powiązanym z ciałami Galois i używanym w kryptografi homomorficznej jest pierścień ilorazowy wielomianów $\\mathbb{Z}_p[X]/W(X)$, gdzie $W(X)$ jest danym, konkretnym wielomianem stopnia $n$ a $p$ konkretną liczbą (najczęściej pierwszą).\n",
    "\n",
    "$\\mathbb{Z}_p[X]$ oznacza tutaj pierścień wielomianów dowolnych stopni o współczynnikach będących liczbami z $\\mathbb{Z}_p$. Żeby otrzymać reprezentację wielomianu z $\\mathbb{Z}[X]$ (tzn. wielomianu o współczynnikach całkowitych) w $\\mathbb{Z}_p[X]$ należy obliczyć reprezentację jego współczynników $\\mod p$.\n",
    "\n",
    "Pierścień ilorazowy $\\mathbb{Z}_p[X]/W(X)$ to mówiąc prostym językiem pierścień reszt z dzielenia wielomianów z $\\mathbb{Z}_p[X]$ przez wielomian $W(X)$, czyli reprezentacją danego wielomianu staje się jego reszta z dzielenia przez $W(X)$."
   ]
  },
  {
   "cell_type": "markdown",
   "id": "0ba1f5c7",
   "metadata": {},
   "source": [
    "## Zadanie 1.\n",
    "\n",
    "Zaimplementować w Pythonie pierścień $\\mathbb{Z}_{17}[X]/(X^4+1)$ wraz z arytmetyką, tzn. działaniami dodawania (+), odejmowania (-), mnożenia (\\*) oraz mnożenia przez `int` (\\*)."
   ]
  },
  {
   "cell_type": "markdown",
   "id": "592a27cc",
   "metadata": {},
   "source": [
    "Dane testowe:"
   ]
  },
  {
   "cell_type": "markdown",
   "id": "4b263dcf",
   "metadata": {},
   "source": [
    "$$w1=7x^6+14x^3$$\n",
    "$$w2=24x^4-5x^2-7x+13$$\n",
    "$$w3=23x^5-3x^4+x^3+35x^2+4$$"
   ]
  },
  {
   "cell_type": "markdown",
   "id": "da891d99",
   "metadata": {},
   "source": [
    "Reprezentacja w $\\mathbb{Z}_{17}[X]/(X^4+1)$:"
   ]
  },
  {
   "cell_type": "markdown",
   "id": "6fd2164a",
   "metadata": {},
   "source": [
    "$$w1=14x^3 + 10x^2$$\n",
    "$$w2=12x^2 + 10x + 6$$\n",
    "$$w3=x^3 + x^2 + 11x + 7$$"
   ]
  },
  {
   "cell_type": "markdown",
   "id": "0c24611c",
   "metadata": {},
   "source": [
    "Arytmetyka:"
   ]
  },
  {
   "cell_type": "markdown",
   "id": "25cfaac4",
   "metadata": {},
   "source": [
    "$$w1+w2=14x^3 + 5x^2 + 10x + 6$$\n",
    "$$w1*w2=14x^3 + 9x^2 + 2x + 12$$\n",
    "$$6*w3=6x^3 + 6x^2 + 15x + 8$$\n",
    "$$w3*6=6x^3 + 6x^2 + 15x + 8$$\n",
    "\n",
    "\n",
    "\n"
   ]
  },
  {
   "cell_type": "code",
   "execution_count": 8,
   "id": "603a7a83",
   "metadata": {},
   "outputs": [],
   "source": [
    "import numpy as np\n",
    "import random"
   ]
  },
  {
   "cell_type": "code",
   "execution_count": 9,
   "id": "d5e83cef",
   "metadata": {},
   "outputs": [
    {
     "name": "stdout",
     "output_type": "stream",
     "text": [
      "Reprezentacja w  ℤ17[𝑋]/(𝑋4+1):\n",
      "w1 = \n",
      "     3      2\n",
      "14 x + 10 x\n",
      "\n",
      "w2 = \n",
      "     2\n",
      "12 x + 10 x + 6\n",
      "\n",
      "w3 = \n",
      "    3     2\n",
      "1 x + 1 x + 11 x + 7\n",
      "\n",
      "Arytmetyka:\n",
      "w1 + w2 = \n",
      "     3     2\n",
      "14 x + 5 x + 10 x + 6\n",
      "\n",
      "w1 * w2 = \n",
      "     3     2\n",
      "14 x + 9 x + 2 x + 12\n",
      "\n",
      "6 * w3 = \n",
      "    3     2\n",
      "6 x + 6 x + 15 x + 8\n",
      "\n",
      "w3 * 6 = \n",
      "    3     2\n",
      "6 x + 6 x + 15 x + 8\n"
     ]
    }
   ],
   "source": [
    "class Ring_4_17:\n",
    "    def __init__(self):\n",
    "        self.q = 17\n",
    "        self.w = np.poly1d([1, 0, 0, 0, 1])\n",
    "        \n",
    "    def ring_rep(self, poly):\n",
    "        return np.poly1d(np.floor(np.polydiv(poly, self.w)[1]) % self.q)\n",
    "    \n",
    "    def add_poly(self, poly_1, poly_2):\n",
    "        return np.poly1d(np.floor(np.polyadd(poly_1, poly_2)) % self.q)\n",
    "\n",
    "    def sub_poly(self, poly_1, poly_2):\n",
    "        return np.poly1d(np.floor(np.polysub(poly_1, poly_2)) % self.q)\n",
    "    \n",
    "    def mul_poly(self, poly_1, poly_2):\n",
    "        return np.poly1d(np.floor(np.polydiv(np.polymul(poly_1, poly_2), self.w)[1]) % self.q)\n",
    "\n",
    "    def mul_poly_int_right(self, poly, num):\n",
    "        return np.poly1d(np.floor(np.polydiv(np.polymul(poly, np.poly1d([num])), self.w)[1]) % self.q)\n",
    "\n",
    "    def mul_poly_int_left(self, num, poly):\n",
    "        return np.poly1d(np.floor(np.polydiv(np.polymul(np.poly1d([num]), poly), self.w)[1]) % self.q)\n",
    "\n",
    "\n",
    "w1 = np.poly1d([7, 0, 0, 14, 0, 0, 0])\n",
    "w2 = np.poly1d([24, 0, -5, -7, 13])\n",
    "w3 = np.poly1d([23, -3, 1, 35, 0, 4]) \n",
    "\n",
    "ring = Ring_4_17()\n",
    "\n",
    "w1 = ring.ring_rep(w1)\n",
    "w2 = ring.ring_rep(w2)\n",
    "w3 = ring.ring_rep(w3)\n",
    "\n",
    "sum_w1_w2 = ring.add_poly(w1, w2)\n",
    "mul_w1_w2 = ring.mul_poly(w1, w2)\n",
    "_w3_6 = ring.mul_poly_int_right(w3, 6)\n",
    "_6_w3 = ring.mul_poly_int_left(6, w3)\n",
    "\n",
    "print('Reprezentacja w  ℤ17[𝑋]/(𝑋4+1):')\n",
    "print('w1 = \\n', w1)\n",
    "print('\\nw2 = \\n', w2)\n",
    "print('\\nw3 = \\n', w3)\n",
    "\n",
    "print('\\nArytmetyka:')\n",
    "print('w1 + w2 = \\n', sum_w1_w2)\n",
    "print('\\nw1 * w2 = \\n', mul_w1_w2)\n",
    "print('\\n6 * w3 = \\n', _6_w3)\n",
    "print('\\nw3 * 6 = \\n', _w3_6)"
   ]
  },
  {
   "cell_type": "markdown",
   "id": "65edd92b",
   "metadata": {},
   "source": [
    "## Algorytm BGV (Brakerski, Gentry, Vaikuntanathan 2011)\n",
    "\n",
    "Parametry kryptosystemu:\n",
    "- $n$ - stopień wielomianu $X^n+1$\n",
    "- $q$ - podstawa arytmetyki modularnej\n",
    "- $t$ - podstawa arytmetyki modularnej plaintextu, $t<<q$\n",
    "- $\\chi$ - dyskretny rokład typu Gaussowskiego\n",
    "- $R_q=\\mathbb{Z}_{q}[X]/(X^n+1)$\n",
    "\n",
    "W uproszczonym modelu kryptosystemu przyjmijmy $n=4$, $q=17$, $t=2$."
   ]
  },
  {
   "cell_type": "markdown",
   "id": "243b99d8",
   "metadata": {},
   "source": [
    "`SecretKeyGen(params) -> sk`\n",
    "\n",
    "- losujemy wektor $s\\in\\{-1,0,1\\}^n$ z *binomial distribution* (prawdopodobieństwo wylosowania 0 jest największe, a prawdopodobieństwa wylosowania -1 i 1 są sobie równe)\n",
    "- klucz prywatny $sk=s$\n",
    "    "
   ]
  },
  {
   "cell_type": "markdown",
   "id": "3ae3a531",
   "metadata": {},
   "source": [
    "`PubKeyGen(sk, params) -> (pk0, pk1)`\n",
    "\n",
    "- losujemy losowy element $a\\in R_q$\n",
    "- losujemy niewielki (w sensie współczynników) błąd $e\\in R_q$ z rozkładu $\\chi$\n",
    "- $pk_0=as+te$\n",
    "- $pk_1=-a$\n",
    "- klucz publiczny $pk=(pk_0,pk_1)$"
   ]
  },
  {
   "cell_type": "markdown",
   "id": "cd578500",
   "metadata": {},
   "source": [
    "`Encrypt(m, pk, params) -> (c0, c1)`\n",
    "\n",
    "- losujemy niewielkie (w sensie współczynników) błędy $e_0,e_1\\in R_q$ z rozkładu $\\chi$\n",
    "- losujemy wektor $u\\in\\{-1,0,1\\}^n$ z *binomial distribution*\n",
    "- $c_0=pk_0\\cdot u+te_0+m$\n",
    "- $c_1=pk_1\\cdot u+te_1$\n",
    "- szyfrogram $c=(c_0,c_1)$"
   ]
  },
  {
   "cell_type": "markdown",
   "id": "d7cda3f3",
   "metadata": {},
   "source": [
    "`Decrypt(c, sk, params)`\n",
    "\n",
    "- obliczamy $m=c_0+c_1s\\mod q\\mod t$\n",
    "- zwracamy $m$ jako odszyfrowaną wiadomość"
   ]
  },
  {
   "cell_type": "markdown",
   "id": "ff07db5f",
   "metadata": {},
   "source": [
    "## Zadanie 2.\n",
    "\n",
    "Zaimplementuj uproszczoną wersję algorytmu BGV. Sprawdź poprawność deszyfrowania dla losowo generowanych wiadomości $m$."
   ]
  },
  {
   "cell_type": "code",
   "execution_count": 10,
   "id": "4281ea3d",
   "metadata": {},
   "outputs": [],
   "source": [
    "class BGV:\n",
    "    def __init__(self, n, q, t):\n",
    "        self.n = n\n",
    "        self.q = q\n",
    "        self.t = t\n",
    "        self.ring = Ring_4_17()\n",
    "    \n",
    "    def secret_key_gen(self):\n",
    "        return np.poly1d(np.random.binomial(1, 0.3, self.n - 2))\n",
    "    \n",
    "    def pub_key_gen(self, sk, max_coeff = 100):                     \n",
    "        a = self.ring.ring_rep(np.poly1d(np.random.randint(-max_coeff, max_coeff, self.n)))\n",
    "        e = self.ring.ring_rep(np.poly1d(np.random.randint(0, 3, self.n - 2)))\n",
    "        pk0 = self.ring.add_poly(self.ring.mul_poly(a, sk), self.ring.mul_poly_int_left(self.t, e))\n",
    "        pk1 = self.ring.mul_poly_int_left(-1, a)\n",
    "        return pk0, pk1\n",
    "    \n",
    "    def encrypt(self, m, pk):\n",
    "        e0 = self.ring.ring_rep(np.poly1d(np.random.randint(0, 3, self.n - 2)))\n",
    "        e1 = self.ring.ring_rep(np.poly1d(np.random.randint(0, 3, self.n - 2)))\n",
    "        u = np.poly1d(np.random.binomial(1, 0.3, self.n - 2))\n",
    "        c0 = self.ring.add_poly(self.ring.add_poly(self.ring.mul_poly(pk[0], u), self.ring.mul_poly_int_left(self.t, e0)), m)\n",
    "        c1 = self.ring.add_poly(self.ring.mul_poly(pk[1], u), self.ring.mul_poly_int_left(self.t, e1))\n",
    "        return c0, c1\n",
    "    \n",
    "    def decrypt(self, c, sk):\n",
    "        m = self.ring.add_poly(c[0], self.ring.mul_poly(c[1], sk))\n",
    "        m = np.poly1d(np.floor(np.floor(m.coef) % self.q) % self.t)\n",
    "        return m"
   ]
  },
  {
   "cell_type": "code",
   "execution_count": 11,
   "id": "77018396",
   "metadata": {},
   "outputs": [
    {
     "name": "stdout",
     "output_type": "stream",
     "text": [
      "Accuracy: 100/100\n"
     ]
    }
   ],
   "source": [
    "bgv = BGV(4, 17, 2)\n",
    "sk = bgv.secret_key_gen()\n",
    "pk = bgv.pub_key_gen(sk)\n",
    "\n",
    "iterations = 0\n",
    "correct = 0\n",
    "\n",
    "while iterations != 100:\n",
    "    m = bgv.ring.ring_rep(np.poly1d(np.random.randint(0, 2, 4).tolist()))\n",
    "    c = bgv.encrypt(m, pk)\n",
    "    m_dec = bgv.decrypt(c, sk)\n",
    "\n",
    "    if m_dec == m:\n",
    "        correct += 1\n",
    "    \n",
    "    iterations += 1\n",
    "\n",
    "print(f'Accuracy: {correct}/{iterations}')"
   ]
  },
  {
   "cell_type": "code",
   "execution_count": null,
   "id": "445fb4e3",
   "metadata": {},
   "outputs": [],
   "source": []
  },
  {
   "cell_type": "code",
   "execution_count": null,
   "id": "5a2322d1",
   "metadata": {},
   "outputs": [],
   "source": []
  }
 ],
 "metadata": {
  "kernelspec": {
   "display_name": "Python 3 (ipykernel)",
   "language": "python",
   "name": "python3"
  },
  "language_info": {
   "codemirror_mode": {
    "name": "ipython",
    "version": 3
   },
   "file_extension": ".py",
   "mimetype": "text/x-python",
   "name": "python",
   "nbconvert_exporter": "python",
   "pygments_lexer": "ipython3",
   "version": "3.9.19"
  }
 },
 "nbformat": 4,
 "nbformat_minor": 5
}
